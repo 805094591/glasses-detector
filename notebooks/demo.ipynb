{
 "cells": [
  {
   "cell_type": "markdown",
   "metadata": {},
   "source": [
    "# Glasses Detector Demo (Coming Soon...)"
   ]
  },
  {
   "cell_type": "markdown",
   "metadata": {},
   "source": [
    "## Setup\n",
    "\n",
    "This simply installs the minimum required **Python** version  (`3.12`) and the latest **PyTorch** version (_Nightly_ for compatibility). If you want, you can change the environment type before running the notebook to support GPU acceleration: `Runtime` $\\to$ `Change runtime type`.\n",
    "\n",
    "> **Note**: it may take several minutes to execute the cell because installing **PyTorch** generally takes a while."
   ]
  },
  {
   "cell_type": "code",
   "execution_count": null,
   "metadata": {},
   "outputs": [],
   "source": [
    "!sudo apt-get update -qq -y && sudo apt-get install python3.12 &> /dev/null\n",
    "!sudo update-alternatives --quiet --install /usr/bin/python3 python3 /usr/bin/python3.12 1\n",
    "!curl -sS https://bootstrap.pypa.io/get-pip.py | python3.12 &> /dev/null\n",
    "!pip install --pre torch torchvision ipython --index-url https://download.pytorch.org/whl/nightly/cu121 &> /dev/null\n",
    "!git clone -q https://github.com/mantasu/glasses-detector && pip install ./glasses-detector &> /dev/null"
   ]
  },
  {
   "cell_type": "code",
   "execution_count": null,
   "metadata": {},
   "outputs": [],
   "source": [
    "from IPython.display import Image"
   ]
  },
  {
   "cell_type": "markdown",
   "metadata": {},
   "source": [
    "## Command Line"
   ]
  },
  {
   "cell_type": "markdown",
   "metadata": {},
   "source": [
    "### Classification"
   ]
  },
  {
   "cell_type": "code",
   "execution_count": null,
   "metadata": {},
   "outputs": [],
   "source": [
    "!glasses-detection -t classification:anyglasses"
   ]
  },
  {
   "cell_type": "markdown",
   "metadata": {},
   "source": [
    "### Detection"
   ]
  },
  {
   "cell_type": "markdown",
   "metadata": {},
   "source": [
    "### Segmentation"
   ]
  },
  {
   "cell_type": "markdown",
   "metadata": {},
   "source": [
    "## Python Scripts (Coming Soon...)"
   ]
  }
 ],
 "metadata": {
  "language_info": {
   "name": "python"
  }
 },
 "nbformat": 4,
 "nbformat_minor": 2
}
