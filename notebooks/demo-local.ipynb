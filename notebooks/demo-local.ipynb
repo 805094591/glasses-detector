{
 "cells": [
  {
   "cell_type": "code",
   "execution_count": null,
   "metadata": {},
   "outputs": [],
   "source": [
    "%cd ..\n",
    "%load_ext autoreload\n",
    "%autoreload 2"
   ]
  },
  {
   "cell_type": "code",
   "execution_count": null,
   "metadata": {},
   "outputs": [],
   "source": [
    "import sys\n",
    "sys.path.append('src')\n",
    "# !pip install -qq ."
   ]
  },
  {
   "cell_type": "code",
   "execution_count": null,
   "metadata": {},
   "outputs": [],
   "source": [
    "import os\n",
    "import json\n",
    "from PIL import Image\n",
    "from glasses_detector import GlassesClassifier, GlassesDetector, GlassesSegmenter"
   ]
  },
  {
   "cell_type": "code",
   "execution_count": null,
   "metadata": {},
   "outputs": [],
   "source": [
    "def display_images_in_row(directory, padding=10):\n",
    "    # Load all images in the directory\n",
    "    images = [Image.open(os.path.join(directory, img)) for img in os.listdir(directory)]\n",
    "\n",
    "    # Create a new image with enough width to hold all images and padding\n",
    "    total_width = sum(img.width for img in images) + padding * (len(images) - 1)\n",
    "    max_height = max(img.height for img in images)\n",
    "    new_img = Image.new('RGB', (total_width, max_height))\n",
    "\n",
    "    # Paste images into new image with padding\n",
    "    x = 0\n",
    "    for img in images:\n",
    "        new_img.paste(img, (x, 0))\n",
    "        x += img.width + padding\n",
    "\n",
    "    new_img.show()"
   ]
  },
  {
   "cell_type": "markdown",
   "metadata": {},
   "source": [
    "## Classification"
   ]
  },
  {
   "cell_type": "markdown",
   "metadata": {},
   "source": [
    "### Command Line"
   ]
  },
  {
   "cell_type": "markdown",
   "metadata": {},
   "source": [
    "Let's first run the simplest prediction to see if the person is wearing glasses in `demo/0.jpg`. By default, if we don't specify the _task_ `kind`, it will default to `anyglasses` for _classification_."
   ]
  },
  {
   "cell_type": "code",
   "execution_count": null,
   "metadata": {},
   "outputs": [],
   "source": [
    "!python -m src.glasses_detector --input data/demo/0.jpg --task classification -w checkpoints/classification/classification-anyglasses-medium.pth"
   ]
  },
  {
   "cell_type": "markdown",
   "metadata": {},
   "source": [
    "Let's now run predict if _sunglasses_ are present in every image under `demo/`. In this example, let's choose to save to a single `csv` file and encode predictions as integers."
   ]
  },
  {
   "cell_type": "code",
   "execution_count": null,
   "metadata": {},
   "outputs": [],
   "source": [
    "!python -m src.glasses_detector -i data/demo -o is_sunglasses.csv --format int --task classification:sunglasses -w checkpoints/classification/classification-sunglasses-medium.pth\n",
    "!cat is_sunglasses.csv"
   ]
  },
  {
   "cell_type": "markdown",
   "metadata": {},
   "source": [
    "### Python Script"
   ]
  },
  {
   "cell_type": "markdown",
   "metadata": {},
   "source": [
    "Here we perform the same prediction considering _anyglasses_ on `demo/1.jpg`. This cell simply shows how to use `process_file` with some _format_ examples. Note that it is also possible to specify `output_path`, specify a list of paths for `input_path`, or, if you only need to return the predictions without showing/saving the results, `predict` method could be helpful."
   ]
  },
  {
   "cell_type": "code",
   "execution_count": null,
   "metadata": {},
   "outputs": [],
   "source": [
    "# Load the model for anyglasses classification\n",
    "cls_anyglasses = GlassesClassifier(kind=\"anyglasses\", weights='checkpoints/classification/classification-anyglasses-medium.pth')\n",
    "\n",
    "def my_format(img, pred):\n",
    "    # Define a custom format function (custom label and draw on image)\n",
    "    label = \"Wears glasses\" if (pred > 0).item() else \"Does not wear\"\n",
    "    return GlassesClassifier.draw_label(img, label)\n",
    "\n",
    "# Process the image with various formats (disable the return value with _)\n",
    "_ = cls_anyglasses.process_file(\"data/demo/1.jpg\", show=True, format=\"logit\")\n",
    "_ = cls_anyglasses.process_file(\"data/demo/1.jpg\", show=True, format={True: \"yes\", False: -1})\n",
    "_ = cls_anyglasses.process_file(\"data/demo/1.jpg\", show=True, format=my_format)"
   ]
  },
  {
   "cell_type": "markdown",
   "metadata": {},
   "source": [
    "This cell shows how to use `process_dir` to save the predictions for each image into a single file and a directory of multiple files (one for each prediction). Note how `cls_sunglasses` can also be just called directly to confirm the presence of _sunglasses_ in `[0.jpg, 3.jpg]`."
   ]
  },
  {
   "cell_type": "code",
   "execution_count": null,
   "metadata": {},
   "outputs": [],
   "source": [
    "# Load the model for sunglasses classification\n",
    "cls_sunglasses = GlassesClassifier(kind=\"sunglasses\", weights='checkpoints/classification/classification-sunglasses-medium.pth')\n",
    "\n",
    "# Process a directory of images and save the results to a json file as well as to a directory as images\n",
    "cls_sunglasses.process_dir(\"data/demo\", \"is_sunglasses.json\", format=\"proba\", batch_size=3, pbar=False)\n",
    "cls_sunglasses.process_dir(\"data/demo\", \"is_sunglasses\", format=\"img\", batch_size=6, pbar=False)\n",
    "\n",
    "# Confirm \"0.jpg\" and \"3.jpg\" are indeed sunglasses, print predictions on the whole dir\n",
    "print(\"[0.jpg, 3.jpg]:\", cls_sunglasses(image=[\"data/demo/0.jpg\", \"data/demo/3.jpg\"]))\n",
    "print(json.load(open(\"is_sunglasses.json\")))\n",
    "display_images_in_row(\"is_sunglasses\")"
   ]
  },
  {
   "cell_type": "markdown",
   "metadata": {},
   "source": [
    "## Segmentation"
   ]
  },
  {
   "cell_type": "markdown",
   "metadata": {},
   "source": []
  }
 ],
 "metadata": {
  "kernelspec": {
   "display_name": "glasses-detector-312",
   "language": "python",
   "name": "python3"
  },
  "language_info": {
   "codemirror_mode": {
    "name": "ipython",
    "version": 3
   },
   "file_extension": ".py",
   "mimetype": "text/x-python",
   "name": "python",
   "nbconvert_exporter": "python",
   "pygments_lexer": "ipython3",
   "version": "3.12.0"
  }
 },
 "nbformat": 4,
 "nbformat_minor": 2
}
